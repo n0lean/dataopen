{
 "cells": [
  {
   "cell_type": "code",
   "execution_count": 1,
   "metadata": {
    "collapsed": true,
    "pycharm": {
     "is_executing": false
    }
   },
   "outputs": [
    {
     "name": "stdout",
     "text": [
      "title                              object\ncompany_name                       object\ncity                               object\nregion                             object\nzip                                object\ncreated                    datetime64[ns]\nlast_checked               datetime64[ns]\nlast_updated               datetime64[ns]\ndelete_date                datetime64[ns]\nonet_occupation_code               object\nSOC_occupation_code                object\nurl                                object\nstock_exchange_country             object\nstock_exchange_name                object\nstock_ticker                       object\nticker_end_date            datetime64[ns]\nticker_start_date          datetime64[ns]\ntime_range                timedelta64[ns]\ndtype: object\n"
     ],
     "output_type": "stream"
    },
    {
     "data": {
      "text/plain": "                          title company_name       city    region   zip  \\\n0              Plant Operator 3  Ecolab Inc.   Aberdeen  Scotland  AB25   \n1     Service Specialist - Pest  Ecolab Inc.     London   England  SW1A   \n2  Service Specialist - Romford  Ecolab Inc.        NaN       NaN   NaN   \n3     Service Specialist - Pest  Ecolab Inc.  Cambridge   England   NaN   \n4        Application Engineer I  Ecolab Inc.   Aberdeen  Scotland  AB25   \n\n              created        last_checked last_updated         delete_date  \\\n0 2014-12-10 12:36:33 2014-12-14 15:38:40          NaT 2014-12-16 15:58:17   \n1 2017-07-05 00:46:00 2017-09-23 12:52:00          NaT 2017-09-24 13:03:55   \n2 2018-05-21 00:42:00 2018-06-11 07:35:00          NaT 2018-06-12 09:56:00   \n3 2017-11-02 19:51:00 2017-12-05 15:40:00          NaT 2017-12-09 02:56:58   \n4 2014-01-07 22:48:08 2014-04-06 19:03:00          NaT 2014-04-08 19:27:57   \n\n  onet_occupation_code SOC_occupation_code  \\\n0           51-8013.00                8124   \n1           37-2021.00                6132   \n2           99-9999.00                9999   \n3           37-2021.00                6132   \n4           15-1132.00                2136   \n\n                                                 url stock_exchange_country  \\\n0  http://jobs.ecolab.com/job/Aberdeen-Plant-Oper...                     US   \n1  http://jobs.ecolab.com/job/7497398/service-spe...                     US   \n2  http://jobs.ecolab.com/job/8332281/service-spe...                     US   \n3  http://jobs.ecolab.com/job/7827995/service-spe...                     US   \n4  http://jobs.ecolab.com/job/Aberdeen-Applicatio...                     US   \n\n  stock_exchange_name stock_ticker ticker_end_date ticker_start_date  \\\n0                 NYS          ECL             NaT        1986-12-10   \n1                 NYS          ECL             NaT        1986-12-10   \n2                 NYS          ECL             NaT        1986-12-10   \n3                 NYS          ECL             NaT        1986-12-10   \n4                 NYS          ECL             NaT        1986-12-10   \n\n        time_range  \n0  6 days 03:21:44  \n1 81 days 12:17:55  \n2 22 days 09:14:00  \n3 36 days 07:05:58  \n4 90 days 20:39:49  ",
      "text/html": "<div>\n<style scoped>\n    .dataframe tbody tr th:only-of-type {\n        vertical-align: middle;\n    }\n\n    .dataframe tbody tr th {\n        vertical-align: top;\n    }\n\n    .dataframe thead th {\n        text-align: right;\n    }\n</style>\n<table border=\"1\" class=\"dataframe\">\n  <thead>\n    <tr style=\"text-align: right;\">\n      <th></th>\n      <th>title</th>\n      <th>company_name</th>\n      <th>city</th>\n      <th>region</th>\n      <th>zip</th>\n      <th>created</th>\n      <th>last_checked</th>\n      <th>last_updated</th>\n      <th>delete_date</th>\n      <th>onet_occupation_code</th>\n      <th>SOC_occupation_code</th>\n      <th>url</th>\n      <th>stock_exchange_country</th>\n      <th>stock_exchange_name</th>\n      <th>stock_ticker</th>\n      <th>ticker_end_date</th>\n      <th>ticker_start_date</th>\n      <th>time_range</th>\n    </tr>\n  </thead>\n  <tbody>\n    <tr>\n      <th>0</th>\n      <td>Plant Operator 3</td>\n      <td>Ecolab Inc.</td>\n      <td>Aberdeen</td>\n      <td>Scotland</td>\n      <td>AB25</td>\n      <td>2014-12-10 12:36:33</td>\n      <td>2014-12-14 15:38:40</td>\n      <td>NaT</td>\n      <td>2014-12-16 15:58:17</td>\n      <td>51-8013.00</td>\n      <td>8124</td>\n      <td>http://jobs.ecolab.com/job/Aberdeen-Plant-Oper...</td>\n      <td>US</td>\n      <td>NYS</td>\n      <td>ECL</td>\n      <td>NaT</td>\n      <td>1986-12-10</td>\n      <td>6 days 03:21:44</td>\n    </tr>\n    <tr>\n      <th>1</th>\n      <td>Service Specialist - Pest</td>\n      <td>Ecolab Inc.</td>\n      <td>London</td>\n      <td>England</td>\n      <td>SW1A</td>\n      <td>2017-07-05 00:46:00</td>\n      <td>2017-09-23 12:52:00</td>\n      <td>NaT</td>\n      <td>2017-09-24 13:03:55</td>\n      <td>37-2021.00</td>\n      <td>6132</td>\n      <td>http://jobs.ecolab.com/job/7497398/service-spe...</td>\n      <td>US</td>\n      <td>NYS</td>\n      <td>ECL</td>\n      <td>NaT</td>\n      <td>1986-12-10</td>\n      <td>81 days 12:17:55</td>\n    </tr>\n    <tr>\n      <th>2</th>\n      <td>Service Specialist - Romford</td>\n      <td>Ecolab Inc.</td>\n      <td>NaN</td>\n      <td>NaN</td>\n      <td>NaN</td>\n      <td>2018-05-21 00:42:00</td>\n      <td>2018-06-11 07:35:00</td>\n      <td>NaT</td>\n      <td>2018-06-12 09:56:00</td>\n      <td>99-9999.00</td>\n      <td>9999</td>\n      <td>http://jobs.ecolab.com/job/8332281/service-spe...</td>\n      <td>US</td>\n      <td>NYS</td>\n      <td>ECL</td>\n      <td>NaT</td>\n      <td>1986-12-10</td>\n      <td>22 days 09:14:00</td>\n    </tr>\n    <tr>\n      <th>3</th>\n      <td>Service Specialist - Pest</td>\n      <td>Ecolab Inc.</td>\n      <td>Cambridge</td>\n      <td>England</td>\n      <td>NaN</td>\n      <td>2017-11-02 19:51:00</td>\n      <td>2017-12-05 15:40:00</td>\n      <td>NaT</td>\n      <td>2017-12-09 02:56:58</td>\n      <td>37-2021.00</td>\n      <td>6132</td>\n      <td>http://jobs.ecolab.com/job/7827995/service-spe...</td>\n      <td>US</td>\n      <td>NYS</td>\n      <td>ECL</td>\n      <td>NaT</td>\n      <td>1986-12-10</td>\n      <td>36 days 07:05:58</td>\n    </tr>\n    <tr>\n      <th>4</th>\n      <td>Application Engineer I</td>\n      <td>Ecolab Inc.</td>\n      <td>Aberdeen</td>\n      <td>Scotland</td>\n      <td>AB25</td>\n      <td>2014-01-07 22:48:08</td>\n      <td>2014-04-06 19:03:00</td>\n      <td>NaT</td>\n      <td>2014-04-08 19:27:57</td>\n      <td>15-1132.00</td>\n      <td>2136</td>\n      <td>http://jobs.ecolab.com/job/Aberdeen-Applicatio...</td>\n      <td>US</td>\n      <td>NYS</td>\n      <td>ECL</td>\n      <td>NaT</td>\n      <td>1986-12-10</td>\n      <td>90 days 20:39:49</td>\n    </tr>\n  </tbody>\n</table>\n</div>"
     },
     "metadata": {},
     "output_type": "execute_result",
     "execution_count": 1
    }
   ],
   "source": [
    "from data.dataloader import JobListingData\n",
    "from metrics.posting_metrics import JobListingMetrics\n",
    "\n",
    "data_factory = JobListingData()\n",
    "d = data_factory.read_data()\n",
    "d = JobListingMetrics.add_posting_range(d)\n",
    "print(d.dtypes)\n",
    "d.head()"
   ]
  },
  {
   "cell_type": "code",
   "execution_count": null,
   "outputs": [],
   "source": [
    "from data.dataloader import UKEmploymentData\n",
    "\n",
    "data_factory = UKEmploymentData()\n",
    "d = data_factory.read_data()\n",
    "print(d.dtypes)\n",
    "d.head()\n"
   ],
   "metadata": {
    "collapsed": false,
    "pycharm": {
     "name": "#%%\n",
     "is_executing": true
    }
   }
  },
  {
   "cell_type": "code",
   "execution_count": null,
   "outputs": [],
   "source": [
    "import numpy as np\n",
    "import pandas as pd\n",
    "import pandas_profiling\n",
    "from data.dataloader import UKLabor\n",
    "\n",
    "data_factory = UKLabor()\n",
    "d = data_factory.read_data()\n",
    "print(d.dtypes)\n",
    "d.head()\n",
    "\n",
    "d.profile_report(style={'full_width':True})\n"
   ],
   "metadata": {
    "collapsed": false,
    "pycharm": {
     "name": "#%%\n",
     "is_executing": true
    }
   }
  },
  {
   "cell_type": "code",
   "execution_count": null,
   "outputs": [],
   "source": [
    "\n"
   ],
   "metadata": {
    "collapsed": false,
    "pycharm": {
     "name": "#%%\n"
    }
   }
  }
 ],
 "metadata": {
  "language_info": {
   "codemirror_mode": {
    "name": "ipython",
    "version": 2
   },
   "file_extension": ".py",
   "mimetype": "text/x-python",
   "name": "python",
   "nbconvert_exporter": "python",
   "pygments_lexer": "ipython2",
   "version": "2.7.6"
  },
  "kernelspec": {
   "name": "python3",
   "language": "python",
   "display_name": "Python 3"
  },
  "pycharm": {
   "stem_cell": {
    "cell_type": "raw",
    "source": [],
    "metadata": {
     "collapsed": false
    }
   }
  }
 },
 "nbformat": 4,
 "nbformat_minor": 0
}